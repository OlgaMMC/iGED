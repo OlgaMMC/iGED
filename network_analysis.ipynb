{
 "cells": [
  {
   "cell_type": "code",
   "execution_count": 8,
   "metadata": {},
   "outputs": [],
   "source": [
    "import pandas as pd\n",
    "import numpy as np \n",
    "import networkx as nx\n",
    "import scipy.stats as stats\n",
    "\n",
    "ags_nd=pd.read_csv('Gephi_stats/Gephi AGS Stats.csv')\n",
    "caba_nd=pd.read_csv('Gephi_stats/Gephi CABA Stats.csv')\n",
    "cdmx_nd=pd.read_csv('Gephi_stats/Gephi CDMX Stats.csv')\n",
    "gdl_nd=pd.read_csv('Gephi_stats/Gephi GDL Stats.csv')\n",
    "hgo_nd=pd.read_csv('Gephi_stats/Gephi Hidalgo Stats.csv')\n",
    "mad_nd=pd.read_csv('Gephi_stats/Gephi Madrid Stats.csv')\n",
    "mtv_nd=pd.read_csv('Gephi_stats/Gephi Montevideo Stats.csv')\n",
    "oax_nd=pd.read_csv('Gephi_stats/Gephi Oaxaca Stats.csv')\n",
    "sao_nd=pd.read_csv('Gephi_stats/Gephi Sao Paulo Stats.csv')\n",
    "scl_nd=pd.read_csv('Gephi_stats/Gephi SCL Stats.csv')\n",
    "\n",
    "ags_ed=pd.read_csv('Gephi_edges/Gephi AGS Edges.csv')\n",
    "caba_ed=pd.read_csv('Gephi_edges/Gephi CABA Edges.csv')\n",
    "cdmx_ed=pd.read_csv('Gephi_edges/Gephi CDMX Edges.csv')\n",
    "gdl_ed=pd.read_csv('Gephi_edges/Gephi GDL Edges.csv')\n",
    "hgo_ed=pd.read_csv('Gephi_edges/Gephi Hidalgo Edges.csv')\n",
    "mad_ed=pd.read_csv('Gephi_edges/Gephi Madrid Edges.csv')\n",
    "mtv_ed=pd.read_csv('Gephi_edges/Gephi Montevideo Edges.csv')\n",
    "oax_ed=pd.read_csv('Gephi_edges/Gephi Oaxaca Edges.csv')\n",
    "sao_ed=pd.read_csv('Gephi_edges/Gephi Sao Paulo Edges.csv')\n",
    "scl_ed=pd.read_csv('Gephi_edges/Gephi SCL Edges.csv')"
   ]
  },
  {
   "cell_type": "code",
   "execution_count": 10,
   "metadata": {
    "tags": [
     "outputPrepend",
     "outputPrepend",
     "outputPrepend",
     "outputPrepend",
     "outputPrepend",
     "outputPrepend",
     "outputPrepend",
     "outputPrepend",
     "outputPrepend",
     "outputPrepend",
     "outputPrepend"
    ]
   },
   "outputs": [],
   "source": [
    "def armar_grafo(nodes,edges,rol_str,weight_str):\n",
    "    G=nx.from_pandas_edgelist(edges,'Source','Target',edge_attr=[\"Weight\"],create_using=nx.DiGraph())\n",
    "    rol = {nid: nodes[nodes['Id']==nid][rol_str].values[0] for nid in nodes['Id']}\n",
    "    nx.set_node_attributes(G,rol,'rol')\n",
    "    weight = {nid: nodes[nodes['Id']==nid][weight_str].values[0] for nid in nodes['Id']}\n",
    "    nx.set_node_attributes(G,weight,'weight')\n",
    "    return G\n",
    "\n",
    "ags_G=armar_grafo(ags_nd,ags_ed,'role','weight')\n",
    "caba_G=armar_grafo(caba_nd,caba_ed,'type','weight')\n",
    "cdmx_G=armar_grafo(cdmx_nd,cdmx_ed,'rol estimado','weight')\n",
    "gdl_G=armar_grafo(gdl_nd,gdl_ed,'type','weight')\n",
    "hgo_G=armar_grafo(hgo_nd,hgo_ed,'type','weight')\n",
    "mad_G=armar_grafo(mad_nd,mad_ed,'rol estimado','weight')\n",
    "mtv_G=armar_grafo(mtv_nd,mtv_ed,'rol estimado','node size')\n",
    "oax_G=armar_grafo(oax_nd,oax_ed,'rol','weight')\n",
    "sao_G=armar_grafo(sao_nd,sao_ed,'rol estimado','weight')\n",
    "scl_G=armar_grafo(scl_nd,scl_ed,'type','weight')"
   ]
  },
  {
   "cell_type": "code",
   "execution_count": 81,
   "metadata": {},
   "outputs": [
    {
     "output_type": "execute_result",
     "data": {
      "text/plain": "array([[0.        , 0.01698113, 0.00188679, 0.00188679, 0.        ,\n        0.        ],\n       [0.01698113, 0.28113208, 0.0509434 , 0.06981132, 0.1245283 ,\n        0.01886792],\n       [0.00188679, 0.0509434 , 0.00188679, 0.00943396, 0.01132075,\n        0.        ],\n       [0.00188679, 0.06981132, 0.00943396, 0.01886792, 0.02264151,\n        0.00377358],\n       [0.        , 0.1245283 , 0.01132075, 0.02264151, 0.02641509,\n        0.00188679],\n       [0.        , 0.01886792, 0.        , 0.00377358, 0.00188679,\n        0.00377358]])"
     },
     "metadata": {},
     "execution_count": 81
    }
   ],
   "source": [
    "print(nx.attribute_mixing_matrix(caba_G,'rol',mapping={'Generador de conocimiento':0,'Habilitador':1,'Promotor':2,'Vinculador':3,'Articulador':4,'Comunidad':5}))\n",
    "print(nx.attribute_mixing_matrix(cdmx_G,'rol',mapping={'Generador de conocimiento':0,'Habilitador':1,'Promotor':2,'Vinculador':3,'Articulador':4,'Comunidad':5}))\n",
    "print(nx.attribute_mixing_matrix(scl_G,'rol',mapping={'Generador de Conocimiento':0,'Habilitador':1,'Promotor':2,'Vinculador':3,'Articulador':4,'Comunidad':5}))"
   ]
  },
  {
   "cell_type": "code",
   "execution_count": 11,
   "metadata": {},
   "outputs": [],
   "source": [
    "caba_core=nx.k_core(caba_G,k=3)\n",
    "cdmx_core=nx.k_core(cdmx_G,k=3)\n",
    "scl_core=nx.k_core(scl_G,k=3)\n",
    "mad_core=nx.k_core(mad_G,k=3)\n",
    "mtv_core=nx.k_core(mtv_G,k=3)\n",
    "sao_core=nx.k_core(sao_G,k=3)\n",
    "\n",
    "nx.write_graphml(caba_core,'Gephi_core/CABA core graph.graphml')\n",
    "nx.write_graphml(cdmx_core,'Gephi_core/CDMX core graph.graphml')\n",
    "nx.write_graphml(scl_core,'Gephi_core/Scl core graph.graphml')\n",
    "nx.write_graphml(mad_core,'Gephi_core/Mad core graph.graphml')\n",
    "nx.write_graphml(mtv_core,'Gephi_core/Mtv core graph.graphml')\n",
    "nx.write_graphml(sao_core,'Gephi_core/Sao core graph.graphml')\n",
    "\n",
    "caba_crust=nx.k_crust(caba_G,k=3)\n",
    "cdmx_crust=nx.k_crust(cdmx_G,k=3)\n",
    "scl_crust=nx.k_crust(scl_G,k=3)\n",
    "mad_crust=nx.k_crust(mad_G,k=3)\n",
    "mtv_crust=nx.k_crust(mtv_G,k=3)\n",
    "sao_crust=nx.k_crust(sao_G,k=3)\n",
    "\n",
    "nx.write_graphml(caba_crust,'Gephi_crust/CABA crust graph.graphml')\n",
    "nx.write_graphml(cdmx_crust,'Gephi_crust/CDMX crust graph.graphml')\n",
    "nx.write_graphml(scl_crust,'Gephi_crust/Scl crust graph.graphml')\n",
    "nx.write_graphml(mad_crust,'Gephi_crust/Mad crust graph.graphml')\n",
    "nx.write_graphml(mtv_crust,'Gephi_crust/Mtv crust graph.graphml')\n",
    "nx.write_graphml(sao_crust,'Gephi_crust/Sao crust graph.graphml')"
   ]
  },
  {
   "cell_type": "code",
   "execution_count": null,
   "metadata": {},
   "outputs": [],
   "source": [
    "print(nx.attribute_mixing_matrix(caba_core,'rol',mapping={'Generador de conocimiento':0,'Habilitador':1,'Promotor':2,'Vinculador':3,'Articulador':4,'Comunidad':5}))\n",
    "print(nx.attribute_mixing_matrix(cdmx_core,'rol',mapping={'Generador de conocimiento':0,'Habilitador':1,'Promotor':2,'Vinculador':3,'Articulador':4,'Comunidad':5}))\n",
    "print(nx.attribute_mixing_matrix(scl_core,'rol',mapping={'Generador de Conocimiento':0,'Habilitador':1,'Promotor':2,'Vinculador':3,'Articulador':4,'Comunidad':5}))"
   ]
  }
 ],
 "metadata": {
  "language_info": {
   "codemirror_mode": {
    "name": "ipython",
    "version": 3
   },
   "file_extension": ".py",
   "mimetype": "text/x-python",
   "name": "python",
   "nbconvert_exporter": "python",
   "pygments_lexer": "ipython3",
   "version": "3.7.6-final"
  },
  "orig_nbformat": 2,
  "kernelspec": {
   "name": "python3",
   "display_name": "Python 3"
  }
 },
 "nbformat": 4,
 "nbformat_minor": 2
}