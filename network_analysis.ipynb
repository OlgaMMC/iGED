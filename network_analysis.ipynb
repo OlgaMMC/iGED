{
 "cells": [
  {
   "cell_type": "code",
   "execution_count": 8,
   "metadata": {},
   "outputs": [],
   "source": [
    "import pandas as pd\n",
    "import numpy as np \n",
    "import networkx as nx\n",
    "import scipy.stats as stats\n",
    "\n",
    "ags_nd=pd.read_csv('Gephi_stats/Gephi AGS Stats.csv')\n",
    "caba_nd=pd.read_csv('Gephi_stats/Gephi CABA Stats.csv')\n",
    "cdmx_nd=pd.read_csv('Gephi_stats/Gephi CDMX Stats.csv')\n",
    "gdl_nd=pd.read_csv('Gephi_stats/Gephi GDL Stats.csv')\n",
    "hgo_nd=pd.read_csv('Gephi_stats/Gephi Hidalgo Stats.csv')\n",
    "mad_nd=pd.read_csv('Gephi_stats/Gephi Madrid Stats.csv')\n",
    "mtv_nd=pd.read_csv('Gephi_stats/Gephi Montevideo Stats.csv')\n",
    "oax_nd=pd.read_csv('Gephi_stats/Gephi Oaxaca Stats.csv')\n",
    "sao_nd=pd.read_csv('Gephi_stats/Gephi Sao Paulo Stats.csv')\n",
    "scl_nd=pd.read_csv('Gephi_stats/Gephi SCL Stats.csv')\n",
    "\n",
    "ags_ed=pd.read_csv('Gephi_edges/Gephi AGS Edges.csv')\n",
    "caba_ed=pd.read_csv('Gephi_edges/Gephi CABA Edges.csv')\n",
    "cdmx_ed=pd.read_csv('Gephi_edges/Gephi CDMX Edges.csv')\n",
    "gdl_ed=pd.read_csv('Gephi_edges/Gephi GDL Edges.csv')\n",
    "hgo_ed=pd.read_csv('Gephi_edges/Gephi Hidalgo Edges.csv')\n",
    "mad_ed=pd.read_csv('Gephi_edges/Gephi Madrid Edges.csv')\n",
    "mtv_ed=pd.read_csv('Gephi_edges/Gephi Montevideo Edges.csv')\n",
    "oax_ed=pd.read_csv('Gephi_edges/Gephi Oaxaca Edges.csv')\n",
    "sao_ed=pd.read_csv('Gephi_edges/Gephi Sao Paulo Edges.csv')\n",
    "scl_ed=pd.read_csv('Gephi_edges/Gephi SCL Edges.csv')"
   ]
  },
  {
   "cell_type": "code",
   "execution_count": 9,
   "metadata": {
    "tags": [
     "outputPrepend",
     "outputPrepend",
     "outputPrepend",
     "outputPrepend",
     "outputPrepend",
     "outputPrepend",
     "outputPrepend",
     "outputPrepend",
     "outputPrepend",
     "outputPrepend",
     "outputPrepend"
    ]
   },
   "outputs": [
    {
     "output_type": "execute_result",
     "data": {
      "text/plain": "NodeDataView({'500 Startups': {'rol': 'Habilitador', 'weight': 0.8}, 'Jaguar Ventures': {'rol': 'Habilitador', 'weight': 1.6}, '54 Ventures': {'rol': 'Habilitador', 'weight': 1.2}, 'Apertura': {'rol': 'Promotor', 'weight': 1.6}, 'ARCAP': {'rol': 'Vinculador', 'weight': 10.0}, 'ASEA': {'rol': 'Vinculador', 'weight': 9.4}, 'Emprear': {'rol': 'Habilitador', 'weight': 2.4}, 'Ministerio de Producción y Trabajo': {'rol': 'Articulador', 'weight': 8.6}, 'UCEMA': {'rol': 'Generador de conocimiento', 'weight': 1.2}, 'A3': {'rol': 'Habilitador', 'weight': 3.0}, 'CEDEX': {'rol': 'Habilitador', 'weight': 1.6}, 'Open Future': {'rol': 'Habilitador', 'weight': 0.6}, 'AWS': {'rol': 'Habilitador', 'weight': 1.2}, 'CAME': {'rol': 'Vinculador', 'weight': 2.6}, 'Cámara Argentina de Fintech': {'rol': 'Vinculador', 'weight': 1.8}, 'CADIME': {'rol': 'Vinculador', 'weight': 1.2}, 'FAN': {'rol': 'Vinculador', 'weight': 1.2}, 'Fundación Telefónica Movistar': {'rol': 'Habilitador', 'weight': 1.0}, 'Socialab': {'rol': 'Habilitador', 'weight': 2.6}, 'Mayma': {'rol': 'Habilitador', 'weight': 1.8}, 'Ashoka': {'rol': 'Habilitador', 'weight': 2.4}, 'Dirección de Emprendedores GCBA': {'rol': 'Articulador', 'weight': 8.4}, 'Google for Startups': {'rol': 'Habilitador', 'weight': 2.0}, 'AAICI': {'rol': 'Articulador', 'weight': 4.0}, 'Endeavor Argentina': {'rol': 'Habilitador', 'weight': 7.6}, 'Acámica': {'rol': 'Habilitador', 'weight': 0.4}, 'Huerta Coworking': {'rol': 'Habilitador', 'weight': 0.6}, 'ADIMRA': {'rol': 'Vinculador', 'weight': 1.0}, 'Alcaldía de Medellín': {'rol': 'Articulador', 'weight': 1.0}, 'Prodem': {'rol': 'Generador de conocimiento', 'weight': 0.6}, 'Ambiente y Desarrollo Sustentable Argentina': {'rol': 'Articulador', 'weight': 1.4}, 'ANDE': {'rol': 'Articulador', 'weight': 1.0}, 'SEPYME': {'rol': 'Articulador', 'weight': 16.8}, 'BID': {'rol': 'Habilitador', 'weight': 6.0}, 'Club Trama': {'rol': 'Comunidad', 'weight': 1.8}, 'El Cronista': {'rol': 'Promotor', 'weight': 1.2}, 'Universidad Austral': {'rol': 'Habilitador', 'weight': 1.2}, 'Argencon': {'rol': 'Vinculador', 'weight': 1.4}, 'Parabolt': {'rol': 'Habilitador', 'weight': 2.4}, 'ASECH': {'rol': 'Vinculador', 'weight': 1.0}, 'The Yield Lab': {'rol': 'Habilitador', 'weight': 0.6}, 'Chicas en Tecnología': {'rol': 'Comunidad', 'weight': 1.2}, 'INICIA': {'rol': 'Habilitador', 'weight': 2.6}, 'GEMA': {'rol': 'Vinculador', 'weight': 0.6}, 'Sistema B': {'rol': 'Habilitador', 'weight': 5.2}, 'IAE': {'rol': 'Habilitador', 'weight': 7.0}, 'UDESA': {'rol': 'Habilitador', 'weight': 2.0}, 'UCA': {'rol': 'Generador de conocimiento', 'weight': 1.2}, 'CONICET': {'rol': 'Articulador', 'weight': 5.2}, 'ProducciónPBA': {'rol': 'Articulador', 'weight': 3.0}, 'NXTP Labs': {'rol': 'Habilitador', 'weight': 2.2}, 'WISE': {'rol': 'Habilitador', 'weight': 1.2}, 'ASELA': {'rol': 'Vinculador', 'weight': 0.6}, 'EMPRETEC': {'rol': 'Habilitador', 'weight': 0.6}, 'FEBA': {'rol': 'Vinculador', 'weight': 0.6}, 'FuckUp Nights': {'rol': 'Comunidad', 'weight': 1.2}, 'BACE Inversiones': {'rol': 'Habilitador', 'weight': 0.6}, 'Incubando Salud': {'rol': 'Habilitador', 'weight': 1.2}, 'WeWork': {'rol': 'Habilitador', 'weight': 1.6}, 'BNA': {'rol': 'Habilitador', 'weight': 1.2}, 'CNV': {'rol': 'Articulador', 'weight': 0.6}, 'Cygnus Angel Club': {'rol': 'Habilitador', 'weight': 0.6}, 'Embarca': {'rol': 'Habilitador', 'weight': 0.6}, 'Club de Inversores Angeles IAE': {'rol': 'Habilitador', 'weight': 0.4}, 'Incutex': {'rol': 'Habilitador', 'weight': 0.6}, 'Glocal': {'rol': 'Habilitador', 'weight': 0.4}, 'Troopa': {'rol': 'Habilitador', 'weight': 0.6}, 'Emprelatam': {'rol': 'Habilitador', 'weight': 0.4}, 'Bairexport': {'rol': 'Vinculador', 'weight': 0.2}, 'FADU': {'rol': 'Habilitador', 'weight': 0.6}, 'UP': {'rol': 'Habilitador', 'weight': 0.6}, 'CCU': {'rol': 'Habilitador', 'weight': 0.6}, 'Proesus': {'rol': 'Habilitador', 'weight': 1.2}, 'CIC': {'rol': 'Articulador', 'weight': 1.0}, 'UNLP': {'rol': 'Generador de conocimiento', 'weight': 0.6}, 'Ciudad del Saber': {'rol': 'Habilitador', 'weight': 1.0}, 'Club de Reparadores': {'rol': 'Comunidad', 'weight': 0.6}, 'GCBA Educación': {'rol': 'Articulador', 'weight': 0.6}, 'FabLab Bariloche': {'rol': 'Habilitador', 'weight': 0.6}, 'cheLA': {'rol': 'Habilitador', 'weight': 1.6}, 'CMD': {'rol': 'Habilitador', 'weight': 0.6}, 'ITBA': {'rol': 'Generador de conocimiento', 'weight': 2.0}, 'Coderhouse': {'rol': 'Habilitador', 'weight': 0.2}, 'Creame': {'rol': 'Habilitador', 'weight': 1.0}, 'GridX': {'rol': 'Habilitador', 'weight': 4.6}, 'UADE': {'rol': 'Habilitador', 'weight': 2.0}, 'UNSAM': {'rol': 'Generador de conocimiento', 'weight': 1.8}, 'Hit Cowork': {'rol': 'Habilitador', 'weight': 1.2}, 'EKLOS': {'rol': 'Habilitador', 'weight': 2.4}, 'Instituto PYME Banco Ciudad': {'rol': 'Habilitador', 'weight': 2.2}, 'Acrux Partners': {'rol': 'Habilitador', 'weight': 0.6}, 'InvestBA': {'rol': 'Articulador', 'weight': 1.4}, 'Subsria. Desarrollo Económico': {'rol': 'Articulador', 'weight': 1.2}, 'Subsria. Plan. Educ. Cnc. y Tec.': {'rol': 'Articulador', 'weight': 1.4}, 'CESSI': {'rol': 'Vinculador', 'weight': 0.6}, 'UNAJE': {'rol': 'Vinculador', 'weight': 1.6}, 'Banco Itaú': {'rol': 'Habilitador', 'weight': 0.6}, 'INTI': {'rol': 'Generador de conocimiento', 'weight': 1.2}, 'Draper Cygnus': {'rol': 'Habilitador', 'weight': 1.0}, 'EAN': {'rol': 'Habilitador', 'weight': 0.6}, 'CienciaPBA': {'rol': 'Articulador', 'weight': 3.0}, 'Educación Argentina': {'rol': 'Articulador', 'weight': 2.8}, 'Comodoro Conocimiento': {'rol': 'Habilitador', 'weight': 0.6}, 'Hashtag Coworking': {'rol': 'Habilitador', 'weight': 0.6}, 'Santander Universidades': {'rol': 'Habilitador', 'weight': 3.8}, 'Santander X': {'rol': 'Habilitador', 'weight': 3.0}, 'Eidos': {'rol': 'Habilitador', 'weight': 0.8}, 'EKHOS': {'rol': 'Habilitador', 'weight': 1.2}, 'Beccar Varela': {'rol': 'Habilitador', 'weight': 2.8}, 'CRIAR': {'rol': 'Comunidad', 'weight': 1.2}, 'UBA': {'rol': 'Generador de conocimiento', 'weight': 3.4}, 'USAL': {'rol': 'Generador de conocimiento', 'weight': 1.0}, 'Cancillería Argentina': {'rol': 'Articulador', 'weight': 0.4}, 'Marcas que Marcan': {'rol': 'Habilitador', 'weight': 0.8}, 'NESI Forum': {'rol': 'Habilitador', 'weight': 0.6}, 'El Núcleo': {'rol': 'Generador de conocimiento', 'weight': 0.6}, 'GCBA': {'rol': 'Articulador', 'weight': 7.6}, 'Enablis': {'rol': 'Habilitador', 'weight': 0.4}, 'MINCYT': {'rol': 'Articulador', 'weight': 5.0}, 'Kaszek Ventures': {'rol': 'Habilitador', 'weight': 1.2}, 'Endeavor': {'rol': 'Habilitador', 'weight': 1.0}, 'Founders Live': {'rol': 'Comunidad', 'weight': 1.0}, 'Venturebees': {'rol': 'Habilitador', 'weight': 0.6}, 'Fundación Itaú Argentina': {'rol': 'Habilitador', 'weight': 1.6}, 'Fundación PROSAMA': {'rol': 'Generador de conocimiento', 'weight': 0.6}, 'Gerencia Ambiental': {'rol': 'Promotor', 'weight': 0.6}, 'Fundes': {'rol': 'Habilitador', 'weight': 1.0}, 'CAB': {'rol': 'Vinculador', 'weight': 1.0}, 'INTA': {'rol': 'Generador de conocimiento', 'weight': 1.6}, 'Hacela Rodar': {'rol': 'Habilitador', 'weight': 0.6}, 'Impact Hub': {'rol': 'Habilitador', 'weight': 2.6}, 'Centro Innovación Social UDESA': {'rol': 'Habilitador', 'weight': 0.6}, 'Eco House': {'rol': 'Habilitador', 'weight': 0.8}, 'Global Shapers': {'rol': 'Comunidad', 'weight': 0.6}, 'Infobae': {'rol': 'Promotor', 'weight': 0.8}, 'Nexen': {'rol': 'Habilitador', 'weight': 0.6}, 'Frubis': {'rol': 'Habilitador', 'weight': 1.0}, 'IncUBAgro': {'rol': 'Habilitador', 'weight': 1.6}, 'Subsria. Desarrollo Económico Vicente López': {'rol': 'Articulador', 'weight': 0.6}, 'SPU': {'rol': 'Articulador', 'weight': 4.0}, 'Planeamiento y Políticas CTI': {'rol': 'Articulador', 'weight': 0.8}, 'cde FADU UBA': {'rol': 'Habilitador', 'weight': 2.0}, 'FIUBA': {'rol': 'Generador de conocimiento', 'weight': 2.0}, 'FOMIN': {'rol': 'Habilitador', 'weight': 0.6}, 'UNQ': {'rol': 'Generador de conocimiento', 'weight': 0.6}, 'Transferencia Tecnológica UBA': {'rol': 'Habilitador', 'weight': 1.4}, 'SUBA': {'rol': 'Comunidad', 'weight': 0.6}, 'IECS': {'rol': 'Generador de conocimiento', 'weight': 0.6}, 'Oxentia': {'rol': 'Habilitador', 'weight': 0.6}, 'Stanford University': {'rol': 'Habilitador', 'weight': 0.6}, 'MONSANTO Fund': {'rol': 'Habilitador', 'weight': 0.6}, 'USI': {'rol': 'Habilitador', 'weight': 0.6}, 'Universidad CAECE': {'rol': 'Habilitador', 'weight': 1.2}, 'Distrito Tigre Sur': {'rol': 'Articulador', 'weight': 0.6}, 'Banco Comafi': {'rol': 'Habilitador', 'weight': 0.6}, 'ESEADE': {'rol': 'Habilitador', 'weight': 0.6}, 'Sercles': {'rol': 'Habilitador', 'weight': 0.6}, 'Munay Coworking': {'rol': 'Habilitador', 'weight': 0.6}, 'La Maquinita': {'rol': 'Habilitador', 'weight': 0.6}, 'Bondarea': {'rol': 'Habilitador', 'weight': 0.6}, 'Lisicky Litvin & Asociados': {'rol': 'Habilitador', 'weight': 0.6}, 'Mercado Libre': {'rol': 'Habilitador', 'weight': 1.4}, 'La Nación': {'rol': 'Promotor', 'weight': 0.8}, 'YPF Ventures': {'rol': 'Habilitador', 'weight': 1.2}, 'MIT Sloan Latin America': {'rol': 'Generador de conocimiento', 'weight': 1.0}, 'Madre Emprendedora': {'rol': 'Habilitador', 'weight': 0.6}, 'Universidad Siglo XXI': {'rol': 'Habilitador', 'weight': 1.2}, 'UNLPam': {'rol': 'Generador de conocimiento', 'weight': 0.6}, 'Senado Nación': {'rol': 'Articulador', 'weight': 0.6}, 'Club emprendedores UNAJ': {'rol': 'Comunidad', 'weight': 0.6}, 'UAI': {'rol': 'Generador de conocimiento', 'weight': 0.6}, 'Club de Emprendedores de Vicente López': {'rol': 'Comunidad', 'weight': 0.6}, 'FUNDESCO': {'rol': 'Vinculador', 'weight': 0.4}, 'Namastrade': {'rol': 'Habilitador', 'weight': 0.2}, 'CAMARCO': {'rol': 'Vinculador', 'weight': 1.6}, 'UNICEN': {'rol': 'Generador de conocimiento', 'weight': 1.6}, 'Latio': {'rol': 'Habilitador', 'weight': 0.6}, 'AMCHAM': {'rol': 'Vinculador', 'weight': 1.2}, 'Polo IT': {'rol': 'Vinculador', 'weight': 0.4}, 'Procomer': {'rol': 'Habilitador', 'weight': 1.0}, 'ANII': {'rol': 'Articulador', 'weight': 1.0}, 'GEN': {'rol': 'Vinculador', 'weight': 0.6}, 'CORFO': {'rol': 'Articulador', 'weight': 0.6}, 'CFI': {'rol': 'Articulador', 'weight': 1.0}, 'Redbee Studios': {'rol': 'Habilitador', 'weight': 3.0}, 'RedVITEC': {'rol': 'Vinculador', 'weight': 0.2}, 'Santander': {'rol': 'Habilitador', 'weight': 3.6}, 'Bioguia': {'rol': 'Promotor', 'weight': 0.6}, 'Njambre': {'rol': 'Habilitador', 'weight': 0.6}, 'ENI - DiTella': {'rol': 'Generador de conocimiento', 'weight': 0.6}, 'Matteria': {'rol': 'Habilitador', 'weight': 0.6}, 'Fundación Dinero Social': {'rol': 'Habilitador', 'weight': 0.6}, 'Emprediem': {'rol': 'Habilitador', 'weight': 0.6}, 'Red/Acción': {'rol': 'Promotor', 'weight': 0.6}, 'Amani Institute': {'rol': 'Habilitador', 'weight': 0.6}, 'Sumatoria': {'rol': 'Habilitador', 'weight': 0.4}, 'Tanoira': {'rol': 'Habilitador', 'weight': 0.2}, 'Universidad Austral de Rosario': {'rol': 'Habilitador', 'weight': 0.6}, 'CREA': {'rol': 'Vinculador', 'weight': 0.6}, 'Nesters': {'rol': 'Habilitador', 'weight': 0.6}, 'Modernización Argentina': {'rol': 'Articulador', 'weight': 0.6}, 'Trepcamp': {'rol': 'Habilitador', 'weight': 0.6}, 'Club de Emprendedores UADE': {'rol': 'Comunidad', 'weight': 1.6}, 'Red Emprendia': {'rol': 'Vinculador', 'weight': 1.6}, 'UTDT': {'rol': 'Generador de conocimiento', 'weight': 0.6}, 'Emprendedores Econ. UBA': {'rol': 'Habilitador', 'weight': 1.0}, 'Ubatec': {'rol': 'Habilitador', 'weight': 0.6}, 'AHK': {'rol': 'Vinculador', 'weight': 0.6}, 'Regus': {'rol': 'Habilitador', 'weight': 0.6}, 'FIJE': {'rol': 'Vinculador', 'weight': 1.0}, 'AGENCIA': {'rol': 'Articulador', 'weight': 1.2}, 'RUNBO': {'rol': 'Vinculador', 'weight': 0.6}, 'Municipalidad de Tandil': {'rol': 'Articulador', 'weight': 0.6}, 'Cámara Empresaria de Tandil': {'rol': 'Vinculador', 'weight': 0.6}, 'CICE': {'rol': 'Habilitador', 'weight': 1.0}, 'UNRaf': {'rol': 'Habilitador', 'weight': 1.0}, 'BanBif': {'rol': 'Habilitador', 'weight': 1.0}, 'FUNINTEC': {'rol': 'Habilitador', 'weight': 0.6}, 'Globant Ventures': {'rol': 'Habilitador', 'weight': 0.6}, 'Incubar': {'rol': 'Vinculador', 'weight': 0.6}, 'Origen CoWork': {'rol': 'Habilitador', 'weight': 0.6}, 'Campus Party Argentina': {'rol': 'Habilitador', 'weight': 0.6}, 'HRC': {'rol': 'Habilitador', 'weight': 0.6}, 'Cámara de Comercio Catalana': {'rol': 'Vinculador', 'weight': 0.6}, 'UPa': {'rol': 'Generador de conocimiento', 'weight': 1.0}, 'Voces Vitales': {'rol': 'Habilitador', 'weight': 0.6}, 'Wayra': {'rol': 'Habilitador', 'weight': 3.8}, 'Y-TEC': {'rol': 'Generador de conocimiento', 'weight': 0.6}})"
     },
     "metadata": {},
     "execution_count": 9
    }
   ],
   "source": [
    "def armar_grafo(nodes,edges,rol_str,weight_str):\n",
    "    G=nx.from_pandas_edgelist(edges,'Source','Target',edge_attr=[\"Weight\"],create_using=nx.DiGraph())\n",
    "    rol = {nid: nodes[nodes['Id']==nid][rol_str].values[0] for nid in nodes['Id']}\n",
    "    nx.set_node_attributes(G,rol,'rol')\n",
    "    weight = {nid: nodes[nodes['Id']==nid][weight_str].values[0] for nid in nodes['Id']}\n",
    "    nx.set_node_attributes(G,weight,'weight')\n",
    "    return G\n",
    "\n",
    "ags_G=armar_grafo(ags_nd,ags_ed,'role','weight')\n",
    "caba_G=armar_grafo(caba_nd,caba_ed,'type','weight')\n",
    "cdmx_G=armar_grafo(cdmx_nd,cdmx_ed,'rol estimado','weight')\n",
    "gdl_G=armar_grafo(gdl_nd,gdl_ed,'type','weight')\n",
    "hgo_G=armar_grafo(hgo_nd,hgo_ed,'type','weight')\n",
    "mad_G=armar_grafo(mad_nd,mad_ed,'rol estimado','weight')\n",
    "mtv_G=armar_grafo(mtv_nd,mtv_ed,'rol estimado','node size')\n",
    "oax_G=armar_grafo(oax_nd,oax_ed,'rol','weight')\n",
    "sao_G=armar_grafo(sao_nd,sao_ed,'rol estimado','weight')\n",
    "scl_G=armar_grafo(scl_nd,scl_ed,'type','weight')"
   ]
  },
  {
   "cell_type": "code",
   "execution_count": 81,
   "metadata": {},
   "outputs": [
    {
     "output_type": "execute_result",
     "data": {
      "text/plain": "array([[0.        , 0.01698113, 0.00188679, 0.00188679, 0.        ,\n        0.        ],\n       [0.01698113, 0.28113208, 0.0509434 , 0.06981132, 0.1245283 ,\n        0.01886792],\n       [0.00188679, 0.0509434 , 0.00188679, 0.00943396, 0.01132075,\n        0.        ],\n       [0.00188679, 0.06981132, 0.00943396, 0.01886792, 0.02264151,\n        0.00377358],\n       [0.        , 0.1245283 , 0.01132075, 0.02264151, 0.02641509,\n        0.00188679],\n       [0.        , 0.01886792, 0.        , 0.00377358, 0.00188679,\n        0.00377358]])"
     },
     "metadata": {},
     "execution_count": 81
    }
   ],
   "source": [
    "print(nx.attribute_mixing_matrix(caba_G,'rol',mapping={'Generador de conocimiento':0,'Habilitador':1,'Promotor':2,'Vinculador':3,'Articulador':4,'Comunidad':5}))\n",
    "print(nx.attribute_mixing_matrix(cdmx_G,'rol',mapping={'Generador de conocimiento':0,'Habilitador':1,'Promotor':2,'Vinculador':3,'Articulador':4,'Comunidad':5}))\n",
    "print(nx.attribute_mixing_matrix(scl_G,'rol',mapping={'Generador de Conocimiento':0,'Habilitador':1,'Promotor':2,'Vinculador':3,'Articulador':4,'Comunidad':5}))"
   ]
  },
  {
   "cell_type": "code",
   "execution_count": null,
   "metadata": {},
   "outputs": [],
   "source": [
    "caba_core=nx.k_core(caba_G,k=3)\n",
    "cdmx_core=nx.k_core(cdmx_G,k=3)\n",
    "scl_core=nx.k_core(scl_G,k=3)\n",
    "mad_core=nx.k_core(mad_G,k=3)\n",
    "mtv_core=nx.k_core(mtv_G,k=3)\n",
    "sao_core=nx.k_core(sao_G,k=3)\n",
    "\n",
    "nx.write_graphml(caba_core,'CABA core graph.graphml')\n",
    "nx.write_graphml(cdmx_core,'CDMX core graph.graphml')\n",
    "nx.write_graphml(scl_core,'Scl core graph.graphml')\n",
    "nx.write_graphml(mad_core,'Mad core graph.graphml')\n",
    "nx.write_graphml(mtv_core,'Mtv core graph.graphml')\n",
    "nx.write_graphml(sao_core,'Sao core graph.graphml')\n",
    "\n",
    "caba_crust=nx.k_crust(caba_G,k=3)\n",
    "cdmx_crust=nx.k_crust(cdmx_G,k=3)\n",
    "scl_crust=nx.k_crust(scl_G,k=3)\n",
    "mad_crust=nx.k_crust(mad_G,k=3)\n",
    "mtv_crust=nx.k_crust(mtv_G,k=3)\n",
    "sao_crust=nx.k_crust(sao_G,k=3)\n",
    "\n",
    "nx.write_graphml(caba_crust,'CABA crust graph.graphml')\n",
    "nx.write_graphml(cdmx_crust,'CDMX crust graph.graphml')\n",
    "nx.write_graphml(scl_crust,'Scl crust graph.graphml')\n",
    "nx.write_graphml(mad_crust,'Mad crust graph.graphml')\n",
    "nx.write_graphml(mtv_crust,'Mtv crust graph.graphml')\n",
    "nx.write_graphml(sao_crust,'Sao crust graph.graphml')"
   ]
  },
  {
   "cell_type": "code",
   "execution_count": null,
   "metadata": {},
   "outputs": [],
   "source": [
    "print(nx.attribute_mixing_matrix(caba_core,'rol',mapping={'Generador de conocimiento':0,'Habilitador':1,'Promotor':2,'Vinculador':3,'Articulador':4,'Comunidad':5}))\n",
    "print(nx.attribute_mixing_matrix(cdmx_core,'rol',mapping={'Generador de conocimiento':0,'Habilitador':1,'Promotor':2,'Vinculador':3,'Articulador':4,'Comunidad':5}))\n",
    "print(nx.attribute_mixing_matrix(scl_core,'rol',mapping={'Generador de Conocimiento':0,'Habilitador':1,'Promotor':2,'Vinculador':3,'Articulador':4,'Comunidad':5}))"
   ]
  }
 ],
 "metadata": {
  "language_info": {
   "codemirror_mode": {
    "name": "ipython",
    "version": 3
   },
   "file_extension": ".py",
   "mimetype": "text/x-python",
   "name": "python",
   "nbconvert_exporter": "python",
   "pygments_lexer": "ipython3",
   "version": "3.7.6-final"
  },
  "orig_nbformat": 2,
  "kernelspec": {
   "name": "python3",
   "display_name": "Python 3"
  }
 },
 "nbformat": 4,
 "nbformat_minor": 2
}