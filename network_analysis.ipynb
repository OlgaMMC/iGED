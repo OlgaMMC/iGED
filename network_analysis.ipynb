{
 "cells": [
  {
   "cell_type": "code",
   "execution_count": 8,
   "metadata": {},
   "outputs": [],
   "source": [
    "import pandas as pd\n",
    "import numpy as np \n",
    "import networkx as nx\n",
    "import scipy.stats as stats\n",
    "\n",
    "ags_nd=pd.read_csv('Gephi_stats/Gephi AGS Stats.csv')\n",
    "caba_nd=pd.read_csv('Gephi_stats/Gephi CABA Stats.csv')\n",
    "cdmx_nd=pd.read_csv('Gephi_stats/Gephi CDMX Stats.csv')\n",
    "gdl_nd=pd.read_csv('Gephi_stats/Gephi GDL Stats.csv')\n",
    "hgo_nd=pd.read_csv('Gephi_stats/Gephi Hidalgo Stats.csv')\n",
    "mad_nd=pd.read_csv('Gephi_stats/Gephi Madrid Stats.csv')\n",
    "mtv_nd=pd.read_csv('Gephi_stats/Gephi Montevideo Stats.csv')\n",
    "oax_nd=pd.read_csv('Gephi_stats/Gephi Oaxaca Stats.csv')\n",
    "sao_nd=pd.read_csv('Gephi_stats/Gephi Sao Paulo Stats.csv')\n",
    "scl_nd=pd.read_csv('Gephi_stats/Gephi SCL Stats.csv')\n",
    "\n",
    "ags_ed=pd.read_csv('Gephi_edges/Gephi AGS Edges.csv')\n",
    "caba_ed=pd.read_csv('Gephi_edges/Gephi CABA Edges.csv')\n",
    "cdmx_ed=pd.read_csv('Gephi_edges/Gephi CDMX Edges.csv')\n",
    "gdl_ed=pd.read_csv('Gephi_edges/Gephi GDL Edges.csv')\n",
    "hgo_ed=pd.read_csv('Gephi_edges/Gephi Hidalgo Edges.csv')\n",
    "mad_ed=pd.read_csv('Gephi_edges/Gephi Madrid Edges.csv')\n",
    "mtv_ed=pd.read_csv('Gephi_edges/Gephi Montevideo Edges.csv')\n",
    "oax_ed=pd.read_csv('Gephi_edges/Gephi Oaxaca Edges.csv')\n",
    "sao_ed=pd.read_csv('Gephi_edges/Gephi Sao Paulo Edges.csv')\n",
    "scl_ed=pd.read_csv('Gephi_edges/Gephi SCL Edges.csv')"
   ]
  },
  {
   "cell_type": "code",
   "execution_count": 10,
   "metadata": {
    "tags": [
     "outputPrepend",
     "outputPrepend",
     "outputPrepend",
     "outputPrepend",
     "outputPrepend",
     "outputPrepend",
     "outputPrepend",
     "outputPrepend",
     "outputPrepend",
     "outputPrepend",
     "outputPrepend"
    ]
   },
   "outputs": [],
   "source": [
    "def armar_grafo(nodes,edges,rol_str,weight_str):\n",
    "    G=nx.from_pandas_edgelist(edges,'Source','Target',edge_attr=[\"Weight\"],create_using=nx.DiGraph())\n",
    "    rol = {nid: nodes[nodes['Id']==nid][rol_str].values[0] for nid in nodes['Id']}\n",
    "    nx.set_node_attributes(G,rol,'rol')\n",
    "    weight = {nid: nodes[nodes['Id']==nid][weight_str].values[0] for nid in nodes['Id']}\n",
    "    nx.set_node_attributes(G,weight,'weight')\n",
    "    return G\n",
    "\n",
    "ags_G=armar_grafo(ags_nd,ags_ed,'role','weight')\n",
    "caba_G=armar_grafo(caba_nd,caba_ed,'type','weight')\n",
    "cdmx_G=armar_grafo(cdmx_nd,cdmx_ed,'rol estimado','weight')\n",
    "gdl_G=armar_grafo(gdl_nd,gdl_ed,'type','weight')\n",
    "hgo_G=armar_grafo(hgo_nd,hgo_ed,'type','weight')\n",
    "mad_G=armar_grafo(mad_nd,mad_ed,'rol estimado','weight')\n",
    "mtv_G=armar_grafo(mtv_nd,mtv_ed,'rol estimado','node size')\n",
    "oax_G=armar_grafo(oax_nd,oax_ed,'rol','weight')\n",
    "sao_G=armar_grafo(sao_nd,sao_ed,'rol estimado','weight')\n",
    "scl_G=armar_grafo(scl_nd,scl_ed,'type','weight')"
   ]
  },
  {
   "cell_type": "code",
   "execution_count": 12,
   "metadata": {},
   "outputs": [
    {
     "output_type": "stream",
     "name": "stdout",
     "text": "[[0.01508621 0.0387931  0.00862069 0.01724138 0.04741379 0.        ]\n [0.05603448 0.31896552 0.01077586 0.06896552 0.12715517 0.01939655]\n [0.         0.         0.         0.         0.         0.        ]\n [0.00431034 0.05603448 0.00431034 0.03017241 0.0237069  0.01077586]\n [0.01724138 0.05603448 0.         0.01508621 0.03232759 0.        ]\n [0.00215517 0.01508621 0.         0.         0.00431034 0.        ]]\n[[0.00398406 0.02390438 0.00199203 0.00199203 0.01195219 0.        ]\n [0.03784861 0.51394422 0.02390438 0.06772908 0.10956175 0.02788845]\n [0.00199203 0.02191235 0.00398406 0.         0.         0.        ]\n [0.00199203 0.02988048 0.         0.00199203 0.00398406 0.00199203]\n [0.00199203 0.01992032 0.         0.00199203 0.00796813 0.00398406]\n [0.         0.05179283 0.0059761  0.0059761  0.00398406 0.00398406]]\n[[0.0140056  0.10084034 0.00840336 0.0280112  0.06442577 0.00280112]\n [0.03641457 0.26610644 0.00560224 0.04201681 0.07282913 0.00840336]\n [0.         0.00840336 0.         0.         0.00280112 0.        ]\n [0.01120448 0.07282913 0.00280112 0.01960784 0.03361345 0.00280112]\n [0.0140056  0.08123249 0.01680672 0.00280112 0.03361345 0.00280112]\n [0.00280112 0.02240896 0.         0.00840336 0.00840336 0.00280112]]\n"
    }
   ],
   "source": [
    "print(nx.attribute_mixing_matrix(caba_G,'rol',mapping={'Generador de conocimiento':0,'Habilitador':1,'Promotor':2,'Vinculador':3,'Articulador':4,'Comunidad':5}))\n",
    "print(nx.attribute_mixing_matrix(cdmx_G,'rol',mapping={'Generador de conocimiento':0,'Habilitador':1,'Promotor':2,'Vinculador':3,'Articulador':4,'Comunidad':5}))\n",
    "print(nx.attribute_mixing_matrix(scl_G,'rol',mapping={'Generador de Conocimiento':0,'Habilitador':1,'Promotor':2,'Vinculador':3,'Articulador':4,'Comunidad':5}))"
   ]
  },
  {
   "cell_type": "code",
   "execution_count": 11,
   "metadata": {},
   "outputs": [],
   "source": [
    "caba_core=nx.k_core(caba_G,k=3)\n",
    "cdmx_core=nx.k_core(cdmx_G,k=3)\n",
    "scl_core=nx.k_core(scl_G,k=3)\n",
    "mad_core=nx.k_core(mad_G,k=3)\n",
    "mtv_core=nx.k_core(mtv_G,k=3)\n",
    "sao_core=nx.k_core(sao_G,k=3)\n",
    "\n",
    "nx.write_graphml(caba_core,'Gephi_core/CABA core graph.graphml')\n",
    "nx.write_graphml(cdmx_core,'Gephi_core/CDMX core graph.graphml')\n",
    "nx.write_graphml(scl_core,'Gephi_core/Scl core graph.graphml')\n",
    "nx.write_graphml(mad_core,'Gephi_core/Mad core graph.graphml')\n",
    "nx.write_graphml(mtv_core,'Gephi_core/Mtv core graph.graphml')\n",
    "nx.write_graphml(sao_core,'Gephi_core/Sao core graph.graphml')\n",
    "\n",
    "caba_crust=nx.k_crust(caba_G,k=3)\n",
    "cdmx_crust=nx.k_crust(cdmx_G,k=3)\n",
    "scl_crust=nx.k_crust(scl_G,k=3)\n",
    "mad_crust=nx.k_crust(mad_G,k=3)\n",
    "mtv_crust=nx.k_crust(mtv_G,k=3)\n",
    "sao_crust=nx.k_crust(sao_G,k=3)\n",
    "\n",
    "nx.write_graphml(caba_crust,'Gephi_crust/CABA crust graph.graphml')\n",
    "nx.write_graphml(cdmx_crust,'Gephi_crust/CDMX crust graph.graphml')\n",
    "nx.write_graphml(scl_crust,'Gephi_crust/Scl crust graph.graphml')\n",
    "nx.write_graphml(mad_crust,'Gephi_crust/Mad crust graph.graphml')\n",
    "nx.write_graphml(mtv_crust,'Gephi_crust/Mtv crust graph.graphml')\n",
    "nx.write_graphml(sao_crust,'Gephi_crust/Sao crust graph.graphml')"
   ]
  },
  {
   "cell_type": "code",
   "execution_count": 13,
   "metadata": {},
   "outputs": [
    {
     "output_type": "stream",
     "name": "stdout",
     "text": "[[0.004 0.028 0.004 0.016 0.06  0.   ]\n [0.032 0.276 0.008 0.08  0.192 0.   ]\n [0.    0.    0.    0.    0.    0.   ]\n [0.    0.068 0.    0.024 0.032 0.004]\n [0.016 0.084 0.    0.016 0.044 0.   ]\n [0.004 0.004 0.    0.    0.004 0.   ]]\n[[0.         0.04694836 0.         0.         0.02816901 0.        ]\n [0.03755869 0.49765258 0.         0.05633803 0.14084507 0.03286385]\n [0.         0.         0.         0.         0.         0.        ]\n [0.         0.03286385 0.         0.         0.00469484 0.        ]\n [0.00469484 0.02816901 0.         0.00469484 0.00938967 0.00469484]\n [0.         0.05633803 0.         0.00469484 0.00469484 0.00469484]]\n[[0.01129944 0.10734463 0.         0.02824859 0.10169492 0.        ]\n [0.03389831 0.23728814 0.         0.05084746 0.11299435 0.00564972]\n [0.         0.         0.         0.         0.         0.        ]\n [0.01694915 0.07909605 0.         0.00564972 0.02824859 0.        ]\n [0.01694915 0.08474576 0.         0.         0.05084746 0.        ]\n [0.00564972 0.01694915 0.         0.         0.00564972 0.        ]]\n"
    }
   ],
   "source": [
    "print(nx.attribute_mixing_matrix(caba_core,'rol',mapping={'Generador de conocimiento':0,'Habilitador':1,'Promotor':2,'Vinculador':3,'Articulador':4,'Comunidad':5}))\n",
    "print(nx.attribute_mixing_matrix(cdmx_core,'rol',mapping={'Generador de conocimiento':0,'Habilitador':1,'Promotor':2,'Vinculador':3,'Articulador':4,'Comunidad':5}))\n",
    "print(nx.attribute_mixing_matrix(scl_core,'rol',mapping={'Generador de Conocimiento':0,'Habilitador':1,'Promotor':2,'Vinculador':3,'Articulador':4,'Comunidad':5}))"
   ]
  },
  {
   "cell_type": "code",
   "execution_count": 19,
   "metadata": {},
   "outputs": [],
   "source": [
    "caba_avg=caba_nd.mean()\n",
    "cdmx_avg=cdmx_nd.mean()\n",
    "scl_avg=scl_nd.mean()\n",
    "mad_avg=mad_nd.mean()\n",
    "mtv_avg=mtv_nd.mean()\n",
    "sao_avg=sao_nd.mean()"
   ]
  },
  {
   "cell_type": "code",
   "execution_count": 20,
   "metadata": {},
   "outputs": [
    {
     "output_type": "stream",
     "name": "stdout",
     "text": "timeset                              NaN\nmentions                        2.285088\navg strength                    3.244633\nweight                          1.481579\nindegree                        2.192982\noutdegree                       2.192982\nDegree                          4.385965\nweighted indegree               7.008772\nweighted outdegree              7.008772\nWeighted Degree                14.017544\nEccentricity                    4.798246\nclosnesscentrality              0.303853\nharmonicclosnesscentrality      0.325773\nbetweenesscentrality          267.368421\nmodularity_class                5.850877\nAuthority                       0.036946\nHub                             0.036946\ncomponentnumber                 0.000000\nstrongcompnum                  96.763158\nclustering                      0.148791\ntriangles                       2.434211\neigencentrality                 0.093111\ndtype: float64\n"
    }
   ],
   "source": [
    "print(caba_avg)"
   ]
  },
  {
   "cell_type": "code",
   "execution_count": null,
   "metadata": {},
   "outputs": [],
   "source": []
  }
 ],
 "metadata": {
  "language_info": {
   "codemirror_mode": {
    "name": "ipython",
    "version": 3
   },
   "file_extension": ".py",
   "mimetype": "text/x-python",
   "name": "python",
   "nbconvert_exporter": "python",
   "pygments_lexer": "ipython3",
   "version": "3.7.6-final"
  },
  "orig_nbformat": 2,
  "kernelspec": {
   "name": "python3",
   "display_name": "Python 3"
  }
 },
 "nbformat": 4,
 "nbformat_minor": 2
}