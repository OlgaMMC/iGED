{
 "cells": [
  {
   "cell_type": "code",
   "execution_count": 12,
   "metadata": {},
   "outputs": [],
   "source": [
    "import pandas as pd\n",
    "import numpy as np \n",
    "import networkx as nx\n",
    "import scipy.stats as stats\n",
    "\n",
    "ags_nd=pd.read_csv('C:/Users/xnive/Desktop/GED/Gephi Files/Gephi Files/Gephi AGS Stats.csv')\n",
    "caba_nd=pd.read_csv('C:/Users/xnive/Desktop/GED/Gephi Files/Gephi Files/Gephi CABA Stats.csv')\n",
    "cdmx_nd=pd.read_csv('C:/Users/xnive/Desktop/GED/Gephi Files/Gephi Files/Gephi CDMX Stats.csv')\n",
    "gdl_nd=pd.read_csv('C:/Users/xnive/Desktop/GED/Gephi Files/Gephi Files/Gephi GDL Stats.csv')\n",
    "hgo_nd=pd.read_csv('C:/Users/xnive/Desktop/GED/Gephi Files/Gephi Files/Gephi Hidalgo Stats.csv')\n",
    "mad_nd=pd.read_csv('C:/Users/xnive/Desktop/GED/Gephi Files/Gephi Files/Gephi Madrid Stats.csv')\n",
    "mtv_nd=pd.read_csv('C:/Users/xnive/Desktop/GED/Gephi Files/Gephi Files/Gephi Montevideo Stats.csv')\n",
    "oax_nd=pd.read_csv('C:/Users/xnive/Desktop/GED/Gephi Files/Gephi Files/Gephi Oaxaca Stats.csv')\n",
    "sao_nd=pd.read_csv('C:/Users/xnive/Desktop/GED/Gephi Files/Gephi Files/Gephi Sao Paulo Stats.csv')\n",
    "scl_nd=pd.read_csv('C:/Users/xnive/Desktop/GED/Gephi Files/Gephi Files/Gephi SCL Stats.csv')\n",
    "\n",
    "#ags_ed=pd.read_csv('C:/Users/xnive/Desktop/GED/Gephi Files/Gephi Files/Gephi AGS Edges.csv')\n",
    "#caba_ed=pd.read_csv('C:/Users/xnive/Desktop/GED/Gephi Files/Gephi Files/Gephi CABA Edges.csv')\n",
    "#cdmx_ed=pd.read_csv('C:/Users/xnive/Desktop/GED/Gephi Files/Gephi Files/Gephi CDMX Edges.csv')\n",
    "#gdl_ed=pd.read_csv('C:/Users/xnive/Desktop/GED/Gephi Files/Gephi Files/Gephi GDL Edges.csv')\n",
    "#hgo_ed=pd.read_csv('C:/Users/xnive/Desktop/GED/Gephi Files/Gephi Files/Gephi Hidalgo Edges.csv')\n",
    "#mad_ed=pd.read_csv('C:/Users/xnive/Desktop/GED/Gephi Files/Gephi Files/Gephi Madrid Edges.csv')\n",
    "#mtv_ed=pd.read_csv('C:/Users/xnive/Desktop/GED/Gephi Files/Gephi Files/Gephi Montevideo Edges.csv')\n",
    "oax_ed=pd.read_csv('C:/Users/xnive/Desktop/GED/Gephi Files/Gephi Files/Gephi Oaxaca Edges.csv')\n",
    "#sao_ed=pd.read_csv('C:/Users/xnive/Desktop/GED/Gephi Files/Gephi Files/Gephi Sao Paulo Edges.csv')\n",
    "#scl_ed=pd.read_csv('C:/Users/xnive/Desktop/GED/Gephi Files/Gephi Files/Gephi SCL .csv')\n",
    "\n"
   ]
  },
  {
   "cell_type": "code",
   "execution_count": 80,
   "metadata": {
    "tags": [
     "outputPrepend",
     "outputPrepend",
     "outputPrepend",
     "outputPrepend",
     "outputPrepend",
     "outputPrepend",
     "outputPrepend",
     "outputPrepend",
     "outputPrepend",
     "outputPrepend",
     "outputPrepend"
    ]
   },
   "outputs": [],
   "source": [
    "def armar_grafo(nodes,edges):\n",
    "    G=nx.from_pandas_edgelist(edges,'Source','Target',edge_attr=[\"Weight\"])\n",
    "    rol = {nid: nodes[nodes['Id']==nid]['rol'].values[0] for nid in nodes['Id']}\n",
    "    nx.set_node_attributes(G,rol,'rol')\n",
    "    return G\n",
    "\n",
    "oax_G=armar_grafo(oax_nd,oax_ed)"
   ]
  },
  {
   "cell_type": "code",
   "execution_count": 81,
   "metadata": {},
   "outputs": [
    {
     "output_type": "execute_result",
     "data": {
      "text/plain": "array([[0.        , 0.01698113, 0.00188679, 0.00188679, 0.        ,\n        0.        ],\n       [0.01698113, 0.28113208, 0.0509434 , 0.06981132, 0.1245283 ,\n        0.01886792],\n       [0.00188679, 0.0509434 , 0.00188679, 0.00943396, 0.01132075,\n        0.        ],\n       [0.00188679, 0.06981132, 0.00943396, 0.01886792, 0.02264151,\n        0.00377358],\n       [0.        , 0.1245283 , 0.01132075, 0.02264151, 0.02641509,\n        0.00188679],\n       [0.        , 0.01886792, 0.        , 0.00377358, 0.00188679,\n        0.00377358]])"
     },
     "metadata": {},
     "execution_count": 81
    }
   ],
   "source": [
    "nx.attribute_mixing_matrix(oax_G,'rol',mapping={'Generador de conocimiento':0,'Habilitador':1,'Promotor':2,'Vinculador':3,'Articulador':4,'Comunidad':5})"
   ]
  },
  {
   "cell_type": "code",
   "execution_count": null,
   "metadata": {},
   "outputs": [],
   "source": []
  }
 ],
 "metadata": {
  "language_info": {
   "codemirror_mode": {
    "name": "ipython",
    "version": 3
   },
   "file_extension": ".py",
   "mimetype": "text/x-python",
   "name": "python",
   "nbconvert_exporter": "python",
   "pygments_lexer": "ipython3",
   "version": "3.7.6-final"
  },
  "orig_nbformat": 2,
  "kernelspec": {
   "name": "python3",
   "display_name": "Python 3"
  }
 },
 "nbformat": 4,
 "nbformat_minor": 2
}